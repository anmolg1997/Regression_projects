{
  "nbformat": 4,
  "nbformat_minor": 0,
  "metadata": {
    "colab": {
      "name": "Retail Price Optimization.ipynb",
      "provenance": [],
      "authorship_tag": "ABX9TyOrUtOvrSooPAz5wrM/IJND",
      "include_colab_link": true
    },
    "kernelspec": {
      "name": "python3",
      "display_name": "Python 3"
    },
    "language_info": {
      "name": "python"
    }
  },
  "cells": [
    {
      "cell_type": "markdown",
      "metadata": {
        "id": "view-in-github",
        "colab_type": "text"
      },
      "source": [
        "<a href=\"https://colab.research.google.com/github/anmolg1997/Regression_projects/blob/main/Retail_Price_Optimization.ipynb\" target=\"_parent\"><img src=\"https://colab.research.google.com/assets/colab-badge.svg\" alt=\"Open In Colab\"/></a>"
      ]
    },
    {
      "cell_type": "markdown",
      "source": [
        "\n",
        "## Introduction to Price Optimization\n",
        "\n"
      ],
      "metadata": {
        "id": "lSgFEUjVHmu1"
      }
    },
    {
      "cell_type": "markdown",
      "source": [
        "\n",
        "\n",
        "---\n",
        "\n",
        "Pricing a product is a crucial aspect of any business. A lot of thought process is put into it. There are different strategies to estimate prices for different kinds of products. There are products whose sales are pretty sensitive to their costs, and as such, a slight change in their price can lead to a noticeable difference in their sales. At the same time, there are also products whose sales are not much affected by their worth - these tend to be luxury items or necessities (like certain medicines). \n",
        "\n",
        "\n",
        "---\n",
        "\n",
        "\n",
        " \n",
        "\n",
        "Price elasticity of demand (EPD), or elasticity, is the degree to which the compelling desire for something changes as its price changes. In general, people desire things less as those things become more expensive. However, for some products, the customers’ desire could drop sharply even with a bit of price increase, and for other products, it could stay almost the same even with a hefty price increase. Economists use the term elasticity to denote this sensitivity of sales to price fluctuations. More precisely, price elasticity gives the percentage change in quantity demanded when there is a one percent increase in price, holding everything else constant.\n",
        "\n",
        "\n",
        "\n",
        "---\n",
        "\n",
        "Mathematically speaking, the price elasticity of demand is defined to be the percentage change in quantity demanded, q,divided by the percentage change in price, p. The formula for the price elasticity (ǫ) is: $$e = \\%ΔQ/ \\%ΔP$$\n",
        "\n",
        "\n",
        "---\n"
      ],
      "metadata": {
        "id": "d_K9B9zgHton"
      }
    },
    {
      "cell_type": "markdown",
      "source": [
        "## Dynamic Pricing Dataset"
      ],
      "metadata": {
        "id": "URXVRwOMIXUw"
      }
    },
    {
      "cell_type": "markdown",
      "source": [
        "The data is contained in three CSV files.\n",
        "\n",
        "**[Cafe - Sell MetaData.csv](https://drive.google.com/file/d/1AartKSv1lNjuSCvZM_7e4imQz6PdvNiZ/view?usp=sharing)** This file has details about sales made by the cafe. \n",
        "\n",
        "Columns: Sell ID, Sell Category, Item ID, Item Name\n",
        "\n",
        "**[Cafe - Transaction - Store.csv](https://drive.google.com/file/d/1nRh8qj9c1AR7KNkqbUdJ8UFRcaSSFxQo/view?usp=sharing)** This file contains information about transactions and sale receipts of the cafe.\n",
        "\n",
        "Columns: Calendar Date, Price, Quantity, Sell ID, Sell Category\n",
        "\n",
        "**[Cafe - DateInfo.csv](https://drive.google.com/file/d/16yR2_ubn0SfbfXeX_NwpMKZGkSzUyT4J/view?usp=sharing)** This has date information corresponding to the transactions performed.\n",
        "\n",
        "Columns: Date, Year, Holiday, Weekend, School Break, Temperature, Outdoor\n"
      ],
      "metadata": {
        "id": "3PyZPsKjIeGZ"
      }
    },
    {
      "cell_type": "code",
      "execution_count": null,
      "metadata": {
        "id": "cOYOSTb4EcoZ"
      },
      "outputs": [],
      "source": [
        ""
      ]
    },
    {
      "cell_type": "markdown",
      "source": [
        ""
      ],
      "metadata": {
        "id": "nSdEPi1KHl2F"
      }
    }
  ]
}
